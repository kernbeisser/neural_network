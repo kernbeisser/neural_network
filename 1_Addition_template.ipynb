{
 "cells": [
  {
   "cell_type": "markdown",
   "id": "200e59ac",
   "metadata": {},
   "source": [
    "# Neural network for addition of 2 numbers\n",
    "### by Börge Göbel"
   ]
  },
  {
   "cell_type": "code",
   "execution_count": 81,
   "id": "cafd9e99",
   "metadata": {},
   "outputs": [],
   "source": [
    "import numpy as np\n",
    "import matplotlib.pyplot as plt"
   ]
  },
  {
   "cell_type": "code",
   "execution_count": 82,
   "id": "a39d46a8",
   "metadata": {},
   "outputs": [],
   "source": [
    "import random"
   ]
  },
  {
   "cell_type": "markdown",
   "id": "453ed6b4",
   "metadata": {},
   "source": [
    "## 1 . Prepare training and test data (typically loaded from file)"
   ]
  },
  {
   "cell_type": "markdown",
   "id": "771357d6",
   "metadata": {},
   "source": [
    "- Here we generate it"
   ]
  },
  {
   "cell_type": "code",
   "execution_count": 83,
   "id": "f1f275a7",
   "metadata": {},
   "outputs": [],
   "source": [
    "rangeData = 20                             # Numbers from [-rangeData,+rangeData]\n",
    "lenData = 1000                             # How many pairs of numbers do we generate\n",
    "testProportion = 0.3                       # 30% testing, 70% training \n",
    "testEnd = round(lenData * testProportion)  # How many pairs of numbers are used for testing"
   ]
  },
  {
   "cell_type": "markdown",
   "id": "714b051c",
   "metadata": {},
   "source": [
    "- Generate 1000 pairs of numbers as 1000 seperate inputs for our network"
   ]
  },
  {
   "cell_type": "code",
   "execution_count": 84,
   "id": "d80c2ac6",
   "metadata": {},
   "outputs": [],
   "source": [
    "dataIn = np.random.randint(-rangeData, rangeData+1, size=(lenData, 2))"
   ]
  },
  {
   "cell_type": "code",
   "execution_count": 85,
   "id": "90f9e29f",
   "metadata": {},
   "outputs": [
    {
     "data": {
      "text/plain": [
       "array([[ -5, -19],\n",
       "       [  2,  -3],\n",
       "       [ 15,  -9],\n",
       "       ...,\n",
       "       [-16,   6],\n",
       "       [ -7,  -6],\n",
       "       [ -4, -20]])"
      ]
     },
     "execution_count": 85,
     "metadata": {},
     "output_type": "execute_result"
    }
   ],
   "source": [
    "dataIn"
   ]
  },
  {
   "cell_type": "markdown",
   "id": "aea58ac4",
   "metadata": {},
   "source": [
    "- Generate the corresponding 1000 output values. These will be the sum of the two inputs.\n",
    "- We do not tell the network that it is the sum. The network shall learn this by itself."
   ]
  },
  {
   "cell_type": "code",
   "execution_count": 86,
   "id": "8f203982",
   "metadata": {},
   "outputs": [],
   "source": [
    "dataOut = dataIn[:,0] + dataIn[:,1]"
   ]
  },
  {
   "cell_type": "code",
   "execution_count": null,
   "id": "eab3af9b",
   "metadata": {},
   "outputs": [],
   "source": [
    "dataOut"
   ]
  },
  {
   "cell_type": "markdown",
   "id": "424a0dfa",
   "metadata": {},
   "source": [
    "- Adding a '1' element to each input pair (related to __bias__ - more on this later)"
   ]
  },
  {
   "cell_type": "code",
   "execution_count": 88,
   "id": "31f61df3",
   "metadata": {},
   "outputs": [],
   "source": [
    "dataIn = np.concatenate([np.ones([lenData,1]), dataIn], axis=1)"
   ]
  },
  {
   "cell_type": "code",
   "execution_count": 89,
   "id": "c8762359",
   "metadata": {},
   "outputs": [
    {
     "data": {
      "text/plain": [
       "array([[  1.,  -5., -19.],\n",
       "       [  1.,   2.,  -3.],\n",
       "       [  1.,  15.,  -9.],\n",
       "       ...,\n",
       "       [  1., -16.,   6.],\n",
       "       [  1.,  -7.,  -6.],\n",
       "       [  1.,  -4., -20.]])"
      ]
     },
     "execution_count": 89,
     "metadata": {},
     "output_type": "execute_result"
    }
   ],
   "source": [
    "dataIn"
   ]
  },
  {
   "cell_type": "markdown",
   "id": "ff4f800a",
   "metadata": {},
   "source": [
    "- The final data sets and 1 example each"
   ]
  },
  {
   "cell_type": "code",
   "execution_count": 90,
   "id": "c3582142",
   "metadata": {},
   "outputs": [],
   "source": [
    "testingIn   = dataIn[0:testEnd]\n",
    "testingOut  = dataOut[0:testEnd]\n",
    "trainingIn  = dataIn[testEnd:]\n",
    "trainingOut = dataOut[testEnd:]"
   ]
  },
  {
   "cell_type": "code",
   "execution_count": 91,
   "id": "c84ba63a",
   "metadata": {},
   "outputs": [
    {
     "name": "stdout",
     "output_type": "stream",
     "text": [
      "[  1.  -5. -19.]\n",
      "-24\n",
      "[  1. -15.  20.]\n",
      "5\n"
     ]
    }
   ],
   "source": [
    "print( testingIn[0] )\n",
    "print( testingOut[0] )\n",
    "print( trainingIn[0] )\n",
    "print( trainingOut[0] )"
   ]
  },
  {
   "cell_type": "markdown",
   "id": "516c4320",
   "metadata": {},
   "source": [
    "## 2. Setting up neural network"
   ]
  },
  {
   "cell_type": "markdown",
   "id": "a1b5b60f",
   "metadata": {},
   "source": [
    "![Addition_network.png](Addition_network.png)"
   ]
  },
  {
   "cell_type": "markdown",
   "id": "47e43ab7",
   "metadata": {},
   "source": [
    "Input layer length: 3 (1 bias + 2 numbers)\n",
    "\n",
    "Output layer length: 1 (result)"
   ]
  },
  {
   "cell_type": "markdown",
   "id": "12fe58e5",
   "metadata": {},
   "source": [
    "### 2.1 Initialize weights: Numbers in the range from -2 to 2"
   ]
  },
  {
   "cell_type": "markdown",
   "id": "93281329",
   "metadata": {},
   "source": [
    "- We need a starting point for our weights. Let's select them randomly."
   ]
  },
  {
   "cell_type": "code",
   "execution_count": 92,
   "id": "2dd2315a",
   "metadata": {},
   "outputs": [
    {
     "data": {
      "text/plain": [
       "array([ 0.11294335, -1.73253534, -1.9731904 ])"
      ]
     },
     "execution_count": 92,
     "metadata": {},
     "output_type": "execute_result"
    }
   ],
   "source": [
    "weights = 4 * np.random.random_sample(3) - 2\n",
    "weights"
   ]
  },
  {
   "cell_type": "markdown",
   "id": "a038dc2b",
   "metadata": {},
   "source": [
    "### 2.2 Activation function\n",
    "\n",
    "- Typically a monotonuous function that rescales a value to the range [0,1]\n",
    "- Here it is not necessary (Comes in the other examples)"
   ]
  },
  {
   "cell_type": "code",
   "execution_count": null,
   "id": "28f2e4f2",
   "metadata": {},
   "outputs": [],
   "source": []
  },
  {
   "cell_type": "markdown",
   "id": "07cea533",
   "metadata": {},
   "source": [
    "### 2.3 Calculate output of our neural network"
   ]
  },
  {
   "cell_type": "markdown",
   "id": "35646410",
   "metadata": {},
   "source": [
    "The value of a neuron is given as the dot product of the two vectors: \n",
    "- weights \n",
    "- value of the neurons in the previous layer (including bias: value 1)\n",
    "\n",
    "$$y = w_0x_0 + w_1x_1 + w_2x_2$$"
   ]
  },
  {
   "cell_type": "code",
   "execution_count": 93,
   "id": "e599e959",
   "metadata": {},
   "outputs": [],
   "source": [
    "def calc_outputs(x, w):\n",
    "    # x: input\n",
    "    # w: weights\n",
    "    return np.dot(x, w)"
   ]
  },
  {
   "cell_type": "code",
   "execution_count": 94,
   "id": "3cc27916",
   "metadata": {},
   "outputs": [
    {
     "name": "stdout",
     "output_type": "stream",
     "text": [
      "-34.78\n",
      "-7.78\n",
      "-10.23\n",
      "20.18\n",
      "-22.07\n",
      "-42.86\n",
      "-12.78\n",
      "-9.71\n"
     ]
    }
   ],
   "source": [
    "for i in range(5, 45, 5):\n",
    "    print(f\"{calc_outputs(trainingIn[i], weights):.2f}\")"
   ]
  },
  {
   "cell_type": "code",
   "execution_count": 95,
   "id": "9cdc3972",
   "metadata": {},
   "outputs": [],
   "source": [
    "testIndex = 20"
   ]
  },
  {
   "cell_type": "markdown",
   "id": "c6479fed",
   "metadata": {},
   "source": [
    "- At the end of this notebook (after training our network) we will have the weights\n",
    "\n",
    "$$w_0 = 0, w_1 = 1, w_2 = 1$$\n",
    "\n",
    "because then our output will be \n",
    "\n",
    "$$y = x_1 + x_2$$"
   ]
  },
  {
   "cell_type": "markdown",
   "id": "5c2e9159",
   "metadata": {},
   "source": [
    "### 2.4 Functions: Calculate accuracy and individual error"
   ]
  },
  {
   "cell_type": "markdown",
   "id": "9942ca8a",
   "metadata": {},
   "source": [
    "### - Accuracy: \n",
    "What is the rate at which the output is predicted correctly (only correct and wrong matter)?"
   ]
  },
  {
   "cell_type": "code",
   "execution_count": 96,
   "id": "abdb9a80",
   "metadata": {},
   "outputs": [
    {
     "data": {
      "text/plain": [
       "0.023333333333333317"
      ]
     },
     "execution_count": 96,
     "metadata": {},
     "output_type": "execute_result"
    }
   ],
   "source": [
    "1 - np.sum(np.abs(np.sign(np.round(calc_outputs(testingIn, weights)) - testingOut ))) / testEnd"
   ]
  },
  {
   "cell_type": "code",
   "execution_count": 97,
   "id": "ea73356f",
   "metadata": {},
   "outputs": [],
   "source": [
    "# TODO decompose\n",
    "def accuracy(testingIn, testingOut, weights):\n",
    "    return 1 - np.sum(np.abs(np.sign(np.round(calc_outputs(testingIn, weights)) - testingOut ))) / testEnd"
   ]
  },
  {
   "cell_type": "code",
   "execution_count": 98,
   "id": "1a4b5ff2",
   "metadata": {},
   "outputs": [
    {
     "data": {
      "text/plain": [
       "0.023333333333333317"
      ]
     },
     "execution_count": 98,
     "metadata": {},
     "output_type": "execute_result"
    }
   ],
   "source": [
    "accuracy(testingIn, testingOut, weights)"
   ]
  },
  {
   "cell_type": "markdown",
   "id": "c237560c",
   "metadata": {},
   "source": [
    "- So far, output is random "
   ]
  },
  {
   "cell_type": "markdown",
   "id": "8e6956b8",
   "metadata": {},
   "source": [
    "### - Error (better for learning): \n",
    "- For a pair of numbers we calculate:\n",
    "\n",
    "$$\\Delta = (y-Y)^2$$\n",
    "\n",
    "y: Predicted result by the neural network\n",
    "\n",
    "\n",
    "Y: Correct result (what we have calculated in the beginning)"
   ]
  },
  {
   "cell_type": "markdown",
   "id": "37d28c01",
   "metadata": {},
   "source": [
    "- Here we only have a single output neuron but in general \n",
    "\n",
    "$$\\Delta = (\\vec{y}-\\vec{Y})^2=\\sum_j (y_j-Y_j)^2$$"
   ]
  },
  {
   "cell_type": "code",
   "execution_count": 99,
   "id": "fe2330e2",
   "metadata": {},
   "outputs": [],
   "source": [
    "from statistics import correlation\n",
    "\n",
    "\n",
    "def error(predicted_values, correct_values):\n",
    "    return np.sum(predicted_values - correct_values)**2"
   ]
  },
  {
   "cell_type": "code",
   "execution_count": 100,
   "id": "0308aaf8",
   "metadata": {},
   "outputs": [
    {
     "data": {
      "text/plain": [
       "1035.6426517315717"
      ]
     },
     "execution_count": 100,
     "metadata": {},
     "output_type": "execute_result"
    }
   ],
   "source": [
    "error(calc_outputs(trainingIn[testIndex], weights), trainingOut[testIndex])"
   ]
  },
  {
   "cell_type": "markdown",
   "id": "b3f535da",
   "metadata": {},
   "source": [
    "### 2.5 Function: Calculate gradient (d Error / d weight)\n",
    "\n",
    "- All derivatives with respect to the individual weights (use chain rule)\n",
    "\n",
    "$$\\frac{\\partial }{\\partial w_i}\\Delta = 2(y-Y)\\cdot x_i$$"
   ]
  },
  {
   "cell_type": "code",
   "execution_count": 101,
   "id": "b675a8b1",
   "metadata": {},
   "outputs": [],
   "source": [
    "def gradient_slow(x, w, correct_values):\n",
    "    return np.array([2 * (calc_outputs(x, w) - correct_values) * x[index_weight] for index_weight in range(3)])"
   ]
  },
  {
   "cell_type": "code",
   "execution_count": 102,
   "id": "b0f32372",
   "metadata": {},
   "outputs": [
    {
     "data": {
      "text/plain": [
       "array([  64.36280453, -965.44206795,  193.08841359])"
      ]
     },
     "execution_count": 102,
     "metadata": {},
     "output_type": "execute_result"
    }
   ],
   "source": [
    "gradient_slow(trainingIn[testIndex], weights, trainingOut[testIndex])"
   ]
  },
  {
   "cell_type": "code",
   "execution_count": 103,
   "id": "b675a8b1",
   "metadata": {},
   "outputs": [],
   "source": [
    "def gradient(x, w, correct_values):\n",
    "    return 2 * (calc_outputs(x, w) - correct_values) * x"
   ]
  },
  {
   "cell_type": "code",
   "execution_count": 104,
   "id": "64e7f3ef",
   "metadata": {},
   "outputs": [
    {
     "data": {
      "text/plain": [
       "array([  64.36280453, -965.44206795,  193.08841359])"
      ]
     },
     "execution_count": 104,
     "metadata": {},
     "output_type": "execute_result"
    }
   ],
   "source": [
    "gradient(trainingIn[testIndex], weights, trainingOut[testIndex])"
   ]
  },
  {
   "cell_type": "code",
   "execution_count": null,
   "id": "efdc547c",
   "metadata": {},
   "outputs": [],
   "source": []
  },
  {
   "cell_type": "markdown",
   "id": "a23ebe73",
   "metadata": {},
   "source": [
    "## 3. Training: Use Gradient descent to change weights to minimize the error"
   ]
  },
  {
   "cell_type": "markdown",
   "id": "01e85b48",
   "metadata": {},
   "source": [
    "Repeat the following process many times:\n",
    "- Select an input pair (index)\n",
    "- Calculate the gradient of the error \n",
    "- Change weights accoding to \n",
    "\n",
    "$$w_\\mathrm{new} = w_\\mathrm{old} - learingRate\\cdot gradient$$"
   ]
  },
  {
   "cell_type": "code",
   "execution_count": 105,
   "id": "7217dd61",
   "metadata": {},
   "outputs": [],
   "source": [
    "learning_rate = 0.001\n",
    "steps = 10000\n",
    "\n",
    "error_list = [error(calc_outputs(trainingIn[testIndex], weights), trainingOut[testIndex])]\n",
    "weight_list = [weights]"
   ]
  },
  {
   "cell_type": "code",
   "execution_count": 106,
   "id": "5295c144",
   "metadata": {},
   "outputs": [],
   "source": [
    "for i in range(steps):\n",
    "    # random input\n",
    "    index = np.random.randint(lenData - testEnd)\n",
    "    # update weights aka 'downhill'\n",
    "    weights = weights - learning_rate * gradient(trainingIn[index], weights, trainingOut[index])\n",
    "    weight_list.append(weights)\n",
    "    # calc the new error\n",
    "    err = error(calc_outputs(trainingIn[index], weights), trainingOut[index])\n",
    "    error_list.append(err)"
   ]
  },
  {
   "cell_type": "code",
   "execution_count": 107,
   "id": "023bb789",
   "metadata": {},
   "outputs": [
    {
     "name": "stdout",
     "output_type": "stream",
     "text": [
      "5.259932696595993e-22\n"
     ]
    }
   ],
   "source": [
    "print(f\"{err}\")"
   ]
  },
  {
   "cell_type": "code",
   "execution_count": 108,
   "id": "2e71a8ad",
   "metadata": {},
   "outputs": [
    {
     "name": "stdout",
     "output_type": "stream",
     "text": [
      "[6.0988507e-10 1.0000000e+00 1.0000000e+00]\n"
     ]
    }
   ],
   "source": [
    "print(f\"{weights}\")"
   ]
  },
  {
   "cell_type": "code",
   "execution_count": 109,
   "id": "743dad50",
   "metadata": {},
   "outputs": [
    {
     "data": {
      "text/plain": [
       "<matplotlib.collections.PathCollection at 0x11ca379a0>"
      ]
     },
     "execution_count": 109,
     "metadata": {},
     "output_type": "execute_result"
    },
    {
     "data": {
      "image/png": "[encoded data removed]",
      "text/plain": [
       "<Figure size 432x288 with 1 Axes>"
      ]
     },
     "metadata": {
      "needs_background": "light"
     },
     "output_type": "display_data"
    }
   ],
   "source": [
    "plt.ylim([0, 1])\n",
    "plt.scatter(range(steps+1), error_list)"
   ]
  },
  {
   "cell_type": "code",
   "execution_count": 110,
   "id": "cf929468",
   "metadata": {},
   "outputs": [
    {
     "data": {
      "text/plain": [
       "<matplotlib.collections.PathCollection at 0x11d15dae0>"
      ]
     },
     "execution_count": 110,
     "metadata": {},
     "output_type": "execute_result"
    },
    {
     "data": {
      "image/png": "[encoded data removed]",
      "text/plain": [
       "<Figure size 432x288 with 1 Axes>"
      ]
     },
     "metadata": {
      "needs_background": "light"
     },
     "output_type": "display_data"
    }
   ],
   "source": [
    "# plt.ylim([0, 1])\n",
    "plt.scatter(range(steps+1), np.log(error_list))"
   ]
  },
  {
   "cell_type": "code",
   "execution_count": 111,
   "id": "3d74c103",
   "metadata": {},
   "outputs": [
    {
     "data": {
      "image/png": "[encoded data removed]",
      "text/plain": [
       "<Figure size 432x288 with 1 Axes>"
      ]
     },
     "metadata": {
      "needs_background": "light"
     },
     "output_type": "display_data"
    }
   ],
   "source": [
    "plt.ylim([-2.5, 2.5])\n",
    "\n",
    "plt.plot(range(steps+1), np.array(weight_list)[:,0], label='weights bias')\n",
    "plt.plot(range(steps+1), np.array(weight_list)[:,1], label='weight 1')\n",
    "plt.plot(range(steps+1), np.array(weight_list)[:,2], label='weight 2')\n",
    "plt.legend()\n",
    "plt.show()"
   ]
  },
  {
   "cell_type": "code",
   "execution_count": null,
   "id": "8a7efad0",
   "metadata": {},
   "outputs": [],
   "source": []
  },
  {
   "cell_type": "markdown",
   "id": "c4889936",
   "metadata": {},
   "source": [
    "## 4. Application to test data set (new data)"
   ]
  },
  {
   "cell_type": "code",
   "execution_count": 121,
   "id": "76b6de9e",
   "metadata": {},
   "outputs": [
    {
     "data": {
      "text/plain": [
       "array([[  1.,  -5., -19.],\n",
       "       [  1.,   2.,  -3.],\n",
       "       [  1.,  15.,  -9.],\n",
       "       [  1.,  -6.,  20.],\n",
       "       [  1.,   6.,   4.],\n",
       "       [  1.,  14.,   4.],\n",
       "       [  1.,  -4.,  20.],\n",
       "       [  1.,  14.,   1.],\n",
       "       [  1.,   1., -14.],\n",
       "       [  1.,  -3., -10.]])"
      ]
     },
     "execution_count": 121,
     "metadata": {},
     "output_type": "execute_result"
    }
   ],
   "source": [
    "testingIn[:10]"
   ]
  },
  {
   "cell_type": "code",
   "execution_count": 120,
   "id": "4e9c0b5c",
   "metadata": {},
   "outputs": [
    {
     "data": {
      "text/plain": [
       "array([-24,  -1,   6,  14,  10,  18,  16,  15, -13, -13])"
      ]
     },
     "execution_count": 120,
     "metadata": {},
     "output_type": "execute_result"
    }
   ],
   "source": [
    "testingOut[:10]"
   ]
  },
  {
   "cell_type": "code",
   "execution_count": 115,
   "id": "f69cbbe2",
   "metadata": {},
   "outputs": [
    {
     "data": {
      "text/plain": [
       "array([-24.,  -1.,   6.,  14.,  10.,  18.,  16.,  15., -13., -13.])"
      ]
     },
     "execution_count": 115,
     "metadata": {},
     "output_type": "execute_result"
    }
   ],
   "source": [
    "np.round(calc_outputs(testingIn, weights))[:10]"
   ]
  },
  {
   "cell_type": "code",
   "execution_count": 123,
   "id": "d9e51b0e",
   "metadata": {},
   "outputs": [
    {
     "data": {
      "text/plain": [
       "1.0"
      ]
     },
     "execution_count": 123,
     "metadata": {},
     "output_type": "execute_result"
    }
   ],
   "source": [
    "# accuracy before learning\n",
    "0.023333333333333317\n",
    "# accuracy again after learning\n",
    "accuracy(testingIn, testingOut, weights)"
   ]
  }
 ],
 "metadata": {
  "kernelspec": {
   "display_name": "Python 3.10.6 64-bit",
   "language": "python",
   "name": "python3"
  },
  "language_info": {
   "codemirror_mode": {
    "name": "ipython",
    "version": 3
   },
   "file_extension": ".py",
   "mimetype": "text/x-python",
   "name": "python",
   "nbconvert_exporter": "python",
   "pygments_lexer": "ipython3",
   "version": "3.10.6"
  },
  "vscode": {
   "interpreter": {
    "hash": "aee8b7b246df8f9039afb4144a1f6fd8d2ca17a180786b69acc140d282b71a49"
   }
  }
 },
 "nbformat": 4,
 "nbformat_minor": 5
}
