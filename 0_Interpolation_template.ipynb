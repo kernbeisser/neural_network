{
 "cells": [
  {
   "cell_type": "markdown",
   "id": "e49ad235",
   "metadata": {},
   "source": [
    "# Interpolation of data\n",
    "- Börge Göbel"
   ]
  },
  {
   "cell_type": "code",
   "execution_count": 1,
   "id": "9a5970cf",
   "metadata": {},
   "outputs": [],
   "source": [
    "import numpy as np\n",
    "import matplotlib.pyplot as plt\n",
    "%matplotlib inline"
   ]
  },
  {
   "cell_type": "code",
   "execution_count": 2,
   "id": "54e9a8d7",
   "metadata": {},
   "outputs": [],
   "source": [
    "from IPython.display import display, Math"
   ]
  },
  {
   "cell_type": "code",
   "execution_count": 3,
   "id": "56b71cbb",
   "metadata": {},
   "outputs": [],
   "source": [
    "np.random.seed(0)"
   ]
  },
  {
   "cell_type": "markdown",
   "id": "9c44bbf6",
   "metadata": {},
   "source": [
    "## 1. Generate data points"
   ]
  },
  {
   "cell_type": "code",
   "execution_count": 4,
   "id": "4bd36ffd",
   "metadata": {},
   "outputs": [],
   "source": [
    "x_list = np.linspace(-5,5,21)\n",
    "data0 = np.array([x_list, 15 + 2.4*x_list -0.5*x_list**2 -0.35*x_list**3])\n",
    "data = np.array([data0[0] + 0.25 * (2*np.random.rand(21)-1), data0[1] + 5.0 * (2*np.random.rand(21)-1)])"
   ]
  },
  {
   "cell_type": "code",
   "execution_count": 5,
   "id": "d63ae651",
   "metadata": {},
   "outputs": [
    {
     "data": {
      "text/plain": [
       "<matplotlib.collections.PathCollection at 0x11c4393c0>"
      ]
     },
     "execution_count": 5,
     "metadata": {},
     "output_type": "execute_result"
    },
    {
     "data": {
      "image/png": "[encoded data removed]",
      "text/plain": [
       "<Figure size 432x288 with 1 Axes>"
      ]
     },
     "metadata": {
      "needs_background": "light"
     },
     "output_type": "display_data"
    }
   ],
   "source": [
    "plt.xlabel('x')\n",
    "plt.ylabel('y')\n",
    "plt.scatter(data[0], data[1])"
   ]
  },
  {
   "cell_type": "markdown",
   "id": "3bab25d9",
   "metadata": {},
   "source": [
    "## 2. Fitting a model function"
   ]
  },
  {
   "cell_type": "markdown",
   "id": "3a6ef777",
   "metadata": {},
   "source": [
    "Finding parameters of a model function such that error is minimized."
   ]
  },
  {
   "cell_type": "markdown",
   "id": "f3354650",
   "metadata": {},
   "source": [
    "### 2.1 Define model function"
   ]
  },
  {
   "cell_type": "markdown",
   "id": "8f315e24",
   "metadata": {},
   "source": [
    "Consider the following polynomial:\n",
    "$$f(x) = a_0 + a_1 x + a_2 x^2 + a_3 x^3$$"
   ]
  },
  {
   "cell_type": "code",
   "execution_count": 6,
   "id": "5dfbbf96",
   "metadata": {},
   "outputs": [],
   "source": [
    "def polynomial_model(x, a):\n",
    "    return a[0] + a[1]*x + a[2]*x**2 + a[3]*x**3"
   ]
  },
  {
   "cell_type": "markdown",
   "id": "5ed1a360",
   "metadata": {},
   "source": [
    "Let's test our new function"
   ]
  },
  {
   "cell_type": "code",
   "execution_count": 7,
   "id": "f233e9a5",
   "metadata": {},
   "outputs": [
    {
     "data": {
      "text/plain": [
       "[<matplotlib.lines.Line2D at 0x11c53e7d0>]"
      ]
     },
     "execution_count": 7,
     "metadata": {},
     "output_type": "execute_result"
    },
    {
     "data": {
      "image/png": "[encoded data removed]",
      "text/plain": [
       "<Figure size 432x288 with 1 Axes>"
      ]
     },
     "metadata": {
      "needs_background": "light"
     },
     "output_type": "display_data"
    }
   ],
   "source": [
    "# Starting values for the coefficients\n",
    "a = 2 * np.random.rand(4) - 1\n",
    "a\n",
    "plt.plot(x_list, polynomial_model(x_list, a))"
   ]
  },
  {
   "cell_type": "markdown",
   "id": "74701646",
   "metadata": {},
   "source": [
    "### 2.2 Update coefficients to reduce the error (gradient descent)"
   ]
  },
  {
   "cell_type": "markdown",
   "id": "c1274500",
   "metadata": {},
   "source": [
    "We can use several different methods to minimize the error, e. g. a Monte-Carlo algorithm. Here, we will use the gradient descent method. The coefficients $$a_i$$ will be updated along the gradient direction of the error function \n",
    "$$\\nabla_{\\vec{a}} \\Delta$$\n",
    "\n",
    "\n",
    "The gradient consists of elements\n",
    "\n",
    "\n",
    "\\begin{equation}\n",
    "    \\frac{\\partial}{\\partial a_k} \\Delta = 2 \\sum_{i=1}^n \\left(f(x_i)-y_i\\right) \\frac{\\partial}{\\partial a_k}f(x_i) = 2 \\sum_{i=1}^n \\left(f(x_i)-y_i\\right) x_i^{k}\n",
    "\\end{equation}\n",
    "\n",
    "Remember: \n",
    "\\begin{equation}\n",
    "\\Delta = \\sum_{i=1}^n \\left(f(x_i)-y_i\\right)^2 = \\sum_{i=1}^n \\left(a_0 + a_1 x_i + a_2 x_i^2 + \\dots + a_n x_i^n-y_i\\right)^2\\\\\n",
    "\\end{equation}"
   ]
  },
  {
   "cell_type": "code",
   "execution_count": 8,
   "id": "8118327d",
   "metadata": {},
   "outputs": [],
   "source": [
    "def error_fit_gradient(f, coeff, data):\n",
    "    derived_delta = 2 * np.array([\n",
    "        np.sum( (f(data[0,:], coeff) - data[1,:]) * data[0, :]**k) \n",
    "    for k in range(4)])\n",
    "    \n",
    "    return derived_delta"
   ]
  },
  {
   "cell_type": "code",
   "execution_count": 9,
   "id": "c198548b",
   "metadata": {},
   "outputs": [
    {
     "data": {
      "text/plain": [
       "array([ -274.96086574,  3260.19590312,  1033.60781245, 71705.53934111])"
      ]
     },
     "execution_count": 9,
     "metadata": {},
     "output_type": "execute_result"
    }
   ],
   "source": [
    "error_fit_gradient(polynomial_model, a, data)"
   ]
  },
  {
   "cell_type": "markdown",
   "id": "23fb3610",
   "metadata": {},
   "source": [
    "### 2.3 Loop for the actual fitting"
   ]
  },
  {
   "cell_type": "code",
   "execution_count": 10,
   "id": "707bb6bb",
   "metadata": {},
   "outputs": [
    {
     "name": "stdout",
     "output_type": "stream",
     "text": [
      "[ 0.39526239 -0.87954906  0.33353343  0.34127574]\n"
     ]
    }
   ],
   "source": [
    "print(a)"
   ]
  },
  {
   "cell_type": "code",
   "execution_count": 11,
   "id": "a77a47c5",
   "metadata": {},
   "outputs": [],
   "source": [
    "iterations = 100000\n",
    "h = 0.00001\n",
    "\n",
    "for i in range(iterations):\n",
    "    a = a - h * error_fit_gradient(polynomial_model, a, data)"
   ]
  },
  {
   "cell_type": "markdown",
   "id": "74c616d6",
   "metadata": {},
   "source": [
    "polynomial with parameters\n",
    "$$f(x) = a_0 + a_1 x + a_2 x^2 + a_3 x^3$$"
   ]
  },
  {
   "cell_type": "code",
   "execution_count": 12,
   "id": "bf6c0e7f",
   "metadata": {},
   "outputs": [
    {
     "name": "stdout",
     "output_type": "stream",
     "text": [
      "[14.13819122  2.5169182  -0.29951166 -0.34150612]\n"
     ]
    }
   ],
   "source": [
    "print(a)"
   ]
  },
  {
   "cell_type": "code",
   "execution_count": 13,
   "id": "7df19324",
   "metadata": {},
   "outputs": [
    {
     "data": {
      "text/plain": [
       "[<matplotlib.lines.Line2D at 0x11c5aee90>]"
      ]
     },
     "execution_count": 13,
     "metadata": {},
     "output_type": "execute_result"
    },
    {
     "data": {
      "image/png": "[encoded data removed]",
      "text/plain": [
       "<Figure size 432x288 with 1 Axes>"
      ]
     },
     "metadata": {
      "needs_background": "light"
     },
     "output_type": "display_data"
    }
   ],
   "source": [
    "plt.scatter(data[0], data[1])\n",
    "plt.plot(x_list, polynomial_model(x_list, a))"
   ]
  },
  {
   "cell_type": "code",
   "execution_count": null,
   "id": "858c956e",
   "metadata": {},
   "outputs": [],
   "source": []
  }
 ],
 "metadata": {
  "kernelspec": {
   "display_name": "Python 3.9.13 64-bit",
   "language": "python",
   "name": "python3"
  },
  "language_info": {
   "codemirror_mode": {
    "name": "ipython",
    "version": 3
   },
   "file_extension": ".py",
   "mimetype": "text/x-python",
   "name": "python",
   "nbconvert_exporter": "python",
   "pygments_lexer": "ipython3",
   "version": "3.10.6"
  },
  "vscode": {
   "interpreter": {
    "hash": "aee8b7b246df8f9039afb4144a1f6fd8d2ca17a180786b69acc140d282b71a49"
   }
  }
 },
 "nbformat": 4,
 "nbformat_minor": 5
}
